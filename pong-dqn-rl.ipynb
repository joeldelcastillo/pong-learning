{
  "cells": [
    {
      "cell_type": "code",
      "source": [
        "!pip install gym[atari]\n",
        "!pip install gym[accept-rom-license]"
      ],
      "metadata": {
        "colab": {
          "base_uri": "https://localhost:8080/"
        },
        "id": "gGeUrkqy-2ty",
        "outputId": "a0a1cd8c-c763-4225-de37-cba1d7161dd2"
      },
      "id": "gGeUrkqy-2ty",
      "execution_count": 1,
      "outputs": [
        {
          "output_type": "stream",
          "name": "stdout",
          "text": [
            "Requirement already satisfied: gym[atari] in /usr/local/lib/python3.10/dist-packages (0.25.2)\n",
            "Requirement already satisfied: numpy>=1.18.0 in /usr/local/lib/python3.10/dist-packages (from gym[atari]) (1.23.5)\n",
            "Requirement already satisfied: cloudpickle>=1.2.0 in /usr/local/lib/python3.10/dist-packages (from gym[atari]) (2.2.1)\n",
            "Requirement already satisfied: gym-notices>=0.0.4 in /usr/local/lib/python3.10/dist-packages (from gym[atari]) (0.0.8)\n",
            "Requirement already satisfied: ale-py~=0.7.5 in /usr/local/lib/python3.10/dist-packages (from gym[atari]) (0.7.5)\n",
            "Requirement already satisfied: importlib-resources in /usr/local/lib/python3.10/dist-packages (from ale-py~=0.7.5->gym[atari]) (6.1.1)\n",
            "Requirement already satisfied: gym[accept-rom-license] in /usr/local/lib/python3.10/dist-packages (0.25.2)\n",
            "Requirement already satisfied: numpy>=1.18.0 in /usr/local/lib/python3.10/dist-packages (from gym[accept-rom-license]) (1.23.5)\n",
            "Requirement already satisfied: cloudpickle>=1.2.0 in /usr/local/lib/python3.10/dist-packages (from gym[accept-rom-license]) (2.2.1)\n",
            "Requirement already satisfied: gym-notices>=0.0.4 in /usr/local/lib/python3.10/dist-packages (from gym[accept-rom-license]) (0.0.8)\n",
            "Requirement already satisfied: autorom[accept-rom-license]~=0.4.2 in /usr/local/lib/python3.10/dist-packages (from gym[accept-rom-license]) (0.4.2)\n",
            "Requirement already satisfied: click in /usr/local/lib/python3.10/dist-packages (from autorom[accept-rom-license]~=0.4.2->gym[accept-rom-license]) (8.1.7)\n",
            "Requirement already satisfied: requests in /usr/local/lib/python3.10/dist-packages (from autorom[accept-rom-license]~=0.4.2->gym[accept-rom-license]) (2.31.0)\n",
            "Requirement already satisfied: tqdm in /usr/local/lib/python3.10/dist-packages (from autorom[accept-rom-license]~=0.4.2->gym[accept-rom-license]) (4.66.1)\n",
            "Requirement already satisfied: AutoROM.accept-rom-license in /usr/local/lib/python3.10/dist-packages (from autorom[accept-rom-license]~=0.4.2->gym[accept-rom-license]) (0.6.1)\n",
            "Requirement already satisfied: charset-normalizer<4,>=2 in /usr/local/lib/python3.10/dist-packages (from requests->autorom[accept-rom-license]~=0.4.2->gym[accept-rom-license]) (3.3.2)\n",
            "Requirement already satisfied: idna<4,>=2.5 in /usr/local/lib/python3.10/dist-packages (from requests->autorom[accept-rom-license]~=0.4.2->gym[accept-rom-license]) (3.6)\n",
            "Requirement already satisfied: urllib3<3,>=1.21.1 in /usr/local/lib/python3.10/dist-packages (from requests->autorom[accept-rom-license]~=0.4.2->gym[accept-rom-license]) (2.0.7)\n",
            "Requirement already satisfied: certifi>=2017.4.17 in /usr/local/lib/python3.10/dist-packages (from requests->autorom[accept-rom-license]~=0.4.2->gym[accept-rom-license]) (2023.11.17)\n"
          ]
        }
      ]
    },
    {
      "cell_type": "code",
      "execution_count": 2,
      "id": "c2f50694",
      "metadata": {
        "id": "c2f50694"
      },
      "outputs": [],
      "source": [
        "from pickletools import uint8\n",
        "import gym\n",
        "import math\n",
        "import random\n",
        "import numpy as np\n",
        "import matplotlib\n",
        "import matplotlib.pyplot as plt\n",
        "from collections import namedtuple, deque\n",
        "from itertools import count\n",
        "from PIL import Image\n",
        "import progressbar\n",
        "import cv2\n",
        "import time\n",
        "\n",
        "\n",
        "import torch\n",
        "import torch.nn as nn\n",
        "import torch.optim as optim\n",
        "import torch.nn.functional as F\n",
        "import torchvision.transforms as T"
      ]
    },
    {
      "cell_type": "code",
      "execution_count": 3,
      "id": "09ec021c",
      "metadata": {
        "colab": {
          "base_uri": "https://localhost:8080/"
        },
        "id": "09ec021c",
        "outputId": "40fdedad-aad5-4d07-9bee-d85601c58830"
      },
      "outputs": [
        {
          "output_type": "stream",
          "name": "stdout",
          "text": [
            "2.1.0+cu118\n"
          ]
        }
      ],
      "source": [
        "print(torch.__version__)"
      ]
    },
    {
      "cell_type": "code",
      "execution_count": 4,
      "id": "80438bf8",
      "metadata": {
        "colab": {
          "base_uri": "https://localhost:8080/"
        },
        "id": "80438bf8",
        "outputId": "9a1440d4-d591-49b5-b3d0-507bde5c4f59"
      },
      "outputs": [
        {
          "output_type": "execute_result",
          "data": {
            "text/plain": [
              "device(type='cuda')"
            ]
          },
          "metadata": {},
          "execution_count": 4
        }
      ],
      "source": [
        "device = torch.device(\"cuda\" if torch.cuda.is_available() else \"cpu\")\n",
        "device"
      ]
    },
    {
      "cell_type": "code",
      "execution_count": 5,
      "id": "c3948bf1",
      "metadata": {
        "id": "c3948bf1"
      },
      "outputs": [],
      "source": [
        "class cnn_model(nn.Module):\n",
        "\n",
        "    def __init__(self, height, width, outputs):\n",
        "        super(cnn_model, self).__init__()\n",
        "        self.conv1 = nn.Conv2d(4, 32, kernel_size=8, stride=4)\n",
        "        self.bn1 = nn.BatchNorm2d(32)\n",
        "        self.conv2 = nn.Conv2d(32, 64, kernel_size=4, stride=2)\n",
        "        self.bn2 = nn.BatchNorm2d(64)\n",
        "        self.conv3 = nn.Conv2d(64, 64, kernel_size=3, stride=1)\n",
        "        self.bn3 = nn.BatchNorm2d(64)\n",
        "\n",
        "        def conv2d_size_out(size, kernel_size, stride):\n",
        "            return (size - (kernel_size - 1) - 1) // stride  + 1\n",
        "\n",
        "        convw = conv2d_size_out(conv2d_size_out(conv2d_size_out(width,8,4),4,2),3,1)\n",
        "        convh = conv2d_size_out(conv2d_size_out(conv2d_size_out(height,8,4),4,2),3,1)\n",
        "        self.fc4 = nn.Linear(convw*convh*64,256)\n",
        "        self.fc5 = nn.Linear(256,128)\n",
        "        self.head = nn.Linear(128,outputs)\n",
        "\n",
        "\n",
        "    def forward(self, x):\n",
        "        x = x.to(torch.device(\"cuda\" if torch.cuda.is_available() else \"cpu\"))\n",
        "        x = x.float()\n",
        "        x = F.relu(self.bn1(self.conv1(x)))\n",
        "        x = F.relu(self.bn2(self.conv2(x)))\n",
        "        x = F.relu(self.bn3(self.conv3(x)))\n",
        "        x = F.relu(self.fc4(x.view(x.size(0),-1)))\n",
        "        x = F.relu(self.fc5(x))\n",
        "        return self.head(x)"
      ]
    },
    {
      "cell_type": "code",
      "execution_count": 6,
      "id": "5b0ec9d6",
      "metadata": {
        "scrolled": true,
        "colab": {
          "base_uri": "https://localhost:8080/"
        },
        "id": "5b0ec9d6",
        "outputId": "0c6aa6c2-b0c8-454b-a735-e9d0b70450d0"
      },
      "outputs": [
        {
          "output_type": "stream",
          "name": "stderr",
          "text": [
            "/usr/local/lib/python3.10/dist-packages/gym/core.py:317: DeprecationWarning: \u001b[33mWARN: Initializing wrapper in old step API which returns one bool instead of two. It is recommended to set `new_step_api=True` to use new step API. This will be the default behaviour in future.\u001b[0m\n",
            "  deprecation(\n",
            "/usr/local/lib/python3.10/dist-packages/gym/wrappers/step_api_compatibility.py:39: DeprecationWarning: \u001b[33mWARN: Initializing environment in old step API which returns one bool instead of two. It is recommended to set `new_step_api=True` to use new step API. This will be the default behaviour in future.\u001b[0m\n",
            "  deprecation(\n"
          ]
        }
      ],
      "source": [
        "env = gym.make(\"ALE/Pong-v5\", render_mode=\"rgb_array\")\n",
        "height, width, channels = env.observation_space.shape\n",
        "nactions = env.action_space.n"
      ]
    },
    {
      "cell_type": "code",
      "execution_count": 7,
      "id": "b003ceb8",
      "metadata": {
        "colab": {
          "base_uri": "https://localhost:8080/"
        },
        "id": "b003ceb8",
        "outputId": "1c6dfeb3-5a86-4c91-98be-201afac7f4b4"
      },
      "outputs": [
        {
          "output_type": "execute_result",
          "data": {
            "text/plain": [
              "<contextlib.ExitStack at 0x7e40f0022bc0>"
            ]
          },
          "metadata": {},
          "execution_count": 7
        }
      ],
      "source": [
        "is_ipython = 'inline' in matplotlib.get_backend()\n",
        "if is_ipython:\n",
        "    from IPython import display\n",
        "\n",
        "plt.ion()"
      ]
    },
    {
      "cell_type": "code",
      "execution_count": 8,
      "id": "51d26367",
      "metadata": {
        "id": "51d26367"
      },
      "outputs": [],
      "source": [
        "Transition = namedtuple('Transition',\n",
        "                        ('state', 'action', 'next_state', 'reward'))\n",
        "\n",
        "\n",
        "class ReplayMemory(object):\n",
        "\n",
        "    def __init__(self, capacity):\n",
        "        self.memory = deque([],maxlen=capacity)\n",
        "\n",
        "    def push(self, *args):\n",
        "        \"\"\"Save a transition\"\"\"\n",
        "        self.memory.append(Transition(*args))\n",
        "\n",
        "    def sample(self, batch_size):\n",
        "        return random.sample(self.memory, batch_size)\n",
        "\n",
        "    def __len__(self):\n",
        "        return len(self.memory)"
      ]
    },
    {
      "cell_type": "code",
      "execution_count": 9,
      "id": "d0314af6",
      "metadata": {
        "id": "d0314af6"
      },
      "outputs": [],
      "source": [
        "batch_size = 128\n",
        "gamma = 0.99\n",
        "eps_start = 1\n",
        "eps_end = 0.02\n",
        "eps_decay = 200000\n",
        "target_update = 1\n",
        "lr = 1e-4\n",
        "target_h = 80\n",
        "target_w = 64\n",
        "crop_dim = [20, height, 0, width]  # Cut 20 px from top to get rid of the score table"
      ]
    },
    {
      "cell_type": "code",
      "execution_count": 10,
      "id": "cd0b9245",
      "metadata": {
        "id": "cd0b9245"
      },
      "outputs": [],
      "source": [
        "policy_net = cnn_model(target_w,target_h,nactions).to(device)\n",
        "target_net = cnn_model(target_w,target_h,nactions).to(device)\n",
        "target_net.load_state_dict(policy_net.state_dict())\n",
        "target_net.eval()\n",
        "\n",
        "# policy_net = torch.load(\"./dqn/dqn_pong_model\")\n",
        "# target_net = torch.load(\"./dqn/dqn_pong_model\")\n",
        "# target_net.load_state_dict(policy_net.state_dict())\n",
        "# target_net.eval()\n",
        "\n",
        "# setup optimizer\n",
        "optimizer = optim.Adam(policy_net.parameters(), lr=lr)\n",
        "memory = ReplayMemory(10000)\n",
        "#memory = torch.load(\"./dqn/dqn_pong_model\")"
      ]
    },
    {
      "cell_type": "code",
      "execution_count": 11,
      "id": "3900bf8a",
      "metadata": {
        "id": "3900bf8a"
      },
      "outputs": [],
      "source": [
        "def preprocess(image):\n",
        "    \"\"\"\n",
        "    Process image crop resize, grayscale and normalize the images\n",
        "    \"\"\"\n",
        "    frame = cv2.cvtColor(image, cv2.COLOR_BGR2GRAY)  # To grayscale\n",
        "    frame = frame[crop_dim[0]:crop_dim[1], crop_dim[2]:crop_dim[3]]  # Cut 20 px from top\n",
        "    frame = cv2.resize(frame, (target_w, target_h))  # Resize\n",
        "    frame = frame.reshape(target_w, target_h) / 255  # Normalize\n",
        "\n",
        "    return frame"
      ]
    },
    {
      "cell_type": "code",
      "execution_count": 12,
      "id": "e9e88de3",
      "metadata": {
        "id": "e9e88de3"
      },
      "outputs": [],
      "source": [
        "def select_action(state):\n",
        "    global steps_done\n",
        "    sample = random.random()\n",
        "    #eps_threshold = eps_end + (eps_start - eps_end) * math.exp(-1. * steps_done / eps_decay)\n",
        "    eps_threshold = max(0.02,eps_start - (eps_start - eps_end) * (steps_done / eps_decay))\n",
        "    steps_done += 1\n",
        "    if (sample > eps_threshold):\n",
        "        with torch.no_grad():\n",
        "            return policy_net(state.to(device)).max(1)[1].view(1, 1)\n",
        "    else:\n",
        "        return torch.tensor([[random.randrange(nactions)]], device=device, dtype=torch.long)"
      ]
    },
    {
      "cell_type": "code",
      "execution_count": 13,
      "id": "1a4afda2",
      "metadata": {
        "id": "1a4afda2"
      },
      "outputs": [],
      "source": [
        "episode_durations = []\n",
        "\n",
        "def plot_durations():\n",
        "    plt.figure(2)\n",
        "    plt.clf()\n",
        "    durations_t = torch.tensor(episode_durations, dtype=torch.float)\n",
        "    plt.title('Training...')\n",
        "    plt.xlabel('Episode')\n",
        "    plt.ylabel('Duration')\n",
        "    plt.plot(durations_t.numpy())\n",
        "    # Take 100 episode averages and plot them too\n",
        "    if len(durations_t) >= 100:\n",
        "        means = durations_t.unfold(0, 100, 1).mean(1).view(-1)\n",
        "        means = torch.cat((torch.zeros(99), means))\n",
        "        plt.plot(means.numpy())\n",
        "\n",
        "    plt.pause(0.001)  # pause a bit so that plots are updated\n",
        "    if is_ipython:\n",
        "        display.clear_output(wait=True)\n",
        "        display.display(plt.gcf())"
      ]
    },
    {
      "cell_type": "code",
      "execution_count": 14,
      "id": "a6640d50",
      "metadata": {
        "id": "a6640d50"
      },
      "outputs": [],
      "source": [
        "def optimize_model():\n",
        "    if len(memory) < batch_size:\n",
        "        return\n",
        "    transitions = memory.sample(batch_size)\n",
        "\n",
        "    #This converts batch-array of Transitions to Transition of batch-arrays.\n",
        "    batch = Transition(*zip(*transitions))\n",
        "\n",
        "    # Compute a mask of non-final states and concatenate the batch elements\n",
        "    # (a final state would've been the one after which simulation ended)\n",
        "    non_final_mask = torch.tensor(tuple(map(lambda s: s is not None,\n",
        "                                          batch.next_state)), device=device, dtype=torch.bool)\n",
        "    non_final_next_states = torch.cat([s for s in batch.next_state\n",
        "                                                if s is not None])\n",
        "    state_batch = torch.cat(batch.state)\n",
        "    action_batch = torch.cat(batch.action)\n",
        "    reward_batch = torch.cat(batch.reward)\n",
        "    #next_state_batch = torch.cat(batch.next_state)\n",
        "    # Compute Q(s_t, a) - the model computes Q(s_t), then we select the\n",
        "    # columns of actions taken. These are the actions which would've been taken\n",
        "    # for each batch state according to policy_net\n",
        "    state_action_values = policy_net(state_batch).gather(1, action_batch)\n",
        "\n",
        "    # Compute V(s_{t+1}) for all next states.\n",
        "    # Expected values of actions for non_final_next_states are computed based\n",
        "    # on the \"older\" target_net; selecting their best reward with max(1)[0].\n",
        "    # This is merged based on the mask, such that we'll have either the expected\n",
        "    # state value or 0 in case the state was final.\n",
        "    next_state_values = torch.zeros(batch_size, device=device)\n",
        "    next_state_values[non_final_mask] = target_net(non_final_next_states).max(1)[0].detach()\n",
        "    # Compute the expected Q values\n",
        "    #next_state_values = target_net(non_final_next_states).max(1)[0].detach()\n",
        "    expected_state_action_values = (next_state_values * gamma) + reward_batch\n",
        "\n",
        "    criterion = nn.MSELoss()\n",
        "    loss = criterion(state_action_values, expected_state_action_values.unsqueeze(1))\n",
        "\n",
        "    # Optimize the model\n",
        "    optimizer.zero_grad()\n",
        "    loss.backward()\n",
        "    for param in policy_net.parameters():\n",
        "        param.grad.data.clamp_(-1, 1)\n",
        "    optimizer.step()"
      ]
    },
    {
      "cell_type": "code",
      "execution_count": 15,
      "id": "0dddd101",
      "metadata": {
        "id": "0dddd101"
      },
      "outputs": [],
      "source": [
        "def display_frames_as_gif(frames, path='./', filename='gym_animation.gif'):\n",
        "    \"\"\"\n",
        "    Displays a list of frames as a gif, with controls\n",
        "    \"\"\"\n",
        "    #Mess with this to change frame size\n",
        "    plt.figure(figsize=(frames[0].shape[1] / 72.0, frames[0].shape[0] / 72.0), dpi=72)\n",
        "\n",
        "    patch = plt.imshow(frames[0])\n",
        "    plt.axis('off')\n",
        "\n",
        "    def animate(i):\n",
        "        patch.set_data(frames[i])\n",
        "\n",
        "    anim = animation.FuncAnimation(plt.gcf(), animate, frames = len(frames), interval=50)\n",
        "    anim.save(path + filename, writer='imagemagick', fps=60)"
      ]
    },
    {
      "cell_type": "code",
      "execution_count": 16,
      "id": "9810389e",
      "metadata": {
        "id": "9810389e"
      },
      "outputs": [],
      "source": [
        "def get_state(obs):\n",
        "    state = preprocess(obs)\n",
        "    #print(obs1.shape)\n",
        "    #state = np.array(obs)\n",
        "    state = np.stack((state, state, state, state))\n",
        "    state = np.array(state)\n",
        "    #print(state.shape)\n",
        "    #state = state.transpose((2,0,1))\n",
        "    #print(state.shape)\n",
        "    state = torch.from_numpy(state)\n",
        "    return state.unsqueeze(0)\n",
        "    #return state"
      ]
    },
    {
      "cell_type": "code",
      "execution_count": 17,
      "id": "a3874fdd",
      "metadata": {
        "id": "a3874fdd"
      },
      "outputs": [],
      "source": [
        "rewards_list = []\n",
        "steps_done = 0\n",
        "# steps_done = torch.load(\"./dqn/dqn_steps\")\n",
        "# rewards_list = torch.load(\"./dqn/dqn_rewards\")"
      ]
    },
    {
      "cell_type": "code",
      "execution_count": 30,
      "id": "d1e5d59f",
      "metadata": {
        "id": "d1e5d59f"
      },
      "outputs": [],
      "source": [
        "def train(env, num_episodes, device):\n",
        "  initial_time = time.time()\n",
        "  for i_episode in range(num_episodes):\n",
        "      # Initialize the environment and state\n",
        "      #env.reset()\n",
        "      #last_screen = get_screen()\n",
        "      #current_screen = get_screen()\n",
        "      #state = current_screen - last_screen\n",
        "      bar = progressbar.ProgressBar(1000, widgets=\\\n",
        "    [progressbar.Bar('=', '[', ']'), ' ', progressbar.Percentage()])\n",
        "      bar.start()\n",
        "      startTime = time.time()  # Keep time\n",
        "      obs = env.reset()\n",
        "      #print(obs)\n",
        "      state = get_state(obs)\n",
        "\n",
        "      total_reward = 0.0\n",
        "\n",
        "      for t in count():\n",
        "          # Select and perform an action\n",
        "          action = select_action(state)\n",
        "          obs, reward, done, _ = env.step(action.item())\n",
        "          reward = torch.tensor([reward], device=device)\n",
        "          total_reward += reward\n",
        "\n",
        "          # Observe new state\n",
        "          #last_screen = current_screen\n",
        "          #current_screen = get_screen()\n",
        "          if not done:\n",
        "              #next_state = current_screen - last_screen\n",
        "              next_state = get_state(obs)\n",
        "          else:\n",
        "              next_state = None\n",
        "\n",
        "          # Store the transition in memory\n",
        "          memory.push(state, action, next_state, reward)\n",
        "\n",
        "          # Move to the next state\n",
        "          state = next_state\n",
        "\n",
        "          # Perform one step of the optimization (on the policy network)\n",
        "          optimize_model()\n",
        "          if t%10 == 0:\n",
        "                bar.update(min(100,(t/10) + 1))\n",
        "          if done:\n",
        "              episode_durations.append(t + 1)\n",
        "              plot_durations()\n",
        "              break\n",
        "      # Update the target network, copying all weights and biases in DQN\n",
        "      if i_episode % target_update == 0:\n",
        "          target_net.load_state_dict(policy_net.state_dict())\n",
        "      bar.finish()\n",
        "      currentTime = time.time()  # Keep current time\n",
        "      time_passed = currentTime - startTime  # Find episode duration\n",
        "      if i_episode % 1 == 0:\n",
        "          rewards_list.append(total_reward.cpu().numpy())\n",
        "      if i_episode % 1 == 0:\n",
        "          print('Total steps: {} \\t Episode: {}/{} \\t Total reward: {} \\t Time taken: {}'.format(steps_done, i_episode, num_episodes, total_reward, time_passed))\n",
        "  env.close()\n",
        "\n",
        "  torch.save(policy_net, \"./dqn/dqn_pong_model\")\n",
        "  torch.save(steps_done, \"./dqn/dqn_steps\")\n",
        "  torch.save(rewards_list, \"./dqn/dqn_rewards\")\n",
        "  torch.save(memory, \"./dqn/dqn_pong_memory\")\n",
        "\n",
        "  print('Complete')\n",
        "  final_time = time.time()\n",
        "#   total_time = torch.load(\"./dqn/dqn_time\")\n",
        "  total_time = 0\n",
        "  total_time = total_time + final_time - initial_time\n",
        "  torch.save(total_time, \"./dqn/dqn_time\")\n",
        "  print('Total time taken {}'.format(total_time))\n",
        "  plt.plot(np.squeeze(rewards_list))\n",
        "  plt.ylabel('total rewards')\n",
        "  plt.xlabel('episode number')\n",
        "  plt.show()\n",
        "  return"
      ]
    },
    {
      "cell_type": "code",
      "execution_count": 19,
      "id": "67f9c2d1",
      "metadata": {
        "id": "67f9c2d1"
      },
      "outputs": [],
      "source": [
        "def test(env, num_episodes, results, device, render = True):\n",
        "  policy_net = torch.load(\"./dqn/dqn_pong_model\")\n",
        "  for episode in range(num_episodes):\n",
        "    obs,_ = env.reset()\n",
        "    state = get_state(obs)\n",
        "    total_reward = 0.0\n",
        "    for t in count():\n",
        "      action = policy_net(state.to(device)).max(1)[1].view(1,1)\n",
        "\n",
        "      if render:\n",
        "        env.render()\n",
        "        time.sleep(0.02)\n",
        "\n",
        "      obs, reward, done, info,_ = env.step(action)\n",
        "\n",
        "      total_reward += reward\n",
        "\n",
        "      if not done:\n",
        "        next_state = get_state(obs)\n",
        "      else:\n",
        "        next_state = None\n",
        "\n",
        "      state = next_state\n",
        "\n",
        "      if done:\n",
        "        #print(\"Finished Episode {} with reward {}\".format(episode, total_reward))\n",
        "        results.append(total_reward)\n",
        "        break\n",
        "\n",
        "    env.close()\n",
        "  return results"
      ]
    },
    {
      "cell_type": "code",
      "execution_count": 24,
      "id": "283f601f",
      "metadata": {
        "colab": {
          "base_uri": "https://localhost:8080/"
        },
        "id": "283f601f",
        "outputId": "35036686-a165-4b4e-fbd2-3e6416c52fc1"
      },
      "outputs": [
        {
          "output_type": "execute_result",
          "data": {
            "text/plain": [
              "device(type='cuda')"
            ]
          },
          "metadata": {},
          "execution_count": 24
        }
      ],
      "source": [
        "device = torch.device(\"cuda\" if torch.cuda.is_available() else \"cpu\")\n",
        "env = gym.make(\"ALE/Pong-v5\", render_mode=\"rgb_array\")\n",
        "device"
      ]
    },
    {
      "cell_type": "code",
      "execution_count": null,
      "id": "6f750089",
      "metadata": {
        "colab": {
          "base_uri": "https://localhost:8080/",
          "height": 89
        },
        "id": "6f750089",
        "outputId": "8936c085-7239-4584-8ba4-833e0d400db3"
      },
      "outputs": [
        {
          "output_type": "display_data",
          "data": {
            "text/plain": [
              "<Figure size 640x480 with 0 Axes>"
            ]
          },
          "metadata": {}
        },
        {
          "output_type": "stream",
          "name": "stderr",
          "text": [
            "[=                                                                       ] N/A%\n",
            "[=                                                                       ] N/A%"
          ]
        },
        {
          "output_type": "stream",
          "name": "stdout",
          "text": [
            "Total steps: 26350 \t Episode: 26/100 \t Total reward: tensor([-20.], device='cuda:0') \t Time taken: 34.12493968009949\n"
          ]
        }
      ],
      "source": [
        "# train model\n",
        "train(env, 400, device)"
      ]
    },
    {
      "cell_type": "code",
      "execution_count": null,
      "id": "86703528",
      "metadata": {
        "id": "86703528",
        "outputId": "9a18b293-e3a9-4816-cff8-211b1524bfe9"
      },
      "outputs": [
        {
          "data": {
            "image/png": "[encoded data removed]",
            "text/plain": [
              "<Figure size 640x480 with 1 Axes>"
            ]
          },
          "metadata": {},
          "output_type": "display_data"
        }
      ],
      "source": [
        "rewards_lists = np.squeeze(rewards_list)\n",
        "r = []\n",
        "x = rewards_lists[0]\n",
        "r.append(x)\n",
        "for i in range(1,rewards_lists.size):\n",
        "    x = 0.9*x+0.1*rewards_lists[i]\n",
        "    r.append(x)\n",
        "    #r.append(sum(rewards_lists[i:i+25]/(24+1)))\n",
        "plt.plot(r)\n",
        "plt.ylabel('EWMA total rewards')\n",
        "plt.xlabel('episode number')\n",
        "plt.title('training rewards')\n",
        "plt.savefig('./dqn/DQN_EWMA.png', bbox_inches='tight')\n",
        "plt.show()"
      ]
    },
    {
      "cell_type": "code",
      "execution_count": null,
      "id": "9f60596a",
      "metadata": {
        "id": "9f60596a"
      },
      "outputs": [],
      "source": [
        "# test model\n",
        "results = test(env, 400, [], device, render=False)"
      ]
    },
    {
      "cell_type": "code",
      "execution_count": null,
      "id": "a01a9e73",
      "metadata": {
        "id": "a01a9e73",
        "outputId": "42022e87-07df-4019-c22d-4eddf0471de6"
      },
      "outputs": [
        {
          "name": "stdout",
          "output_type": "stream",
          "text": [
            "552879\n",
            "17840.47794699669\n"
          ]
        }
      ],
      "source": [
        "print(steps_done)\n",
        "total_time = torch.load(\"./dqn/dqn_time\")\n",
        "print(total_time)"
      ]
    },
    {
      "cell_type": "code",
      "execution_count": null,
      "id": "4e5ac4b3",
      "metadata": {
        "id": "4e5ac4b3",
        "outputId": "4a1c5179-616a-4714-fdce-e227bcc96384"
      },
      "outputs": [
        {
          "data": {
            "image/png": "[encoded data removed]",
            "text/plain": [
              "<Figure size 640x480 with 1 Axes>"
            ]
          },
          "metadata": {},
          "output_type": "display_data"
        }
      ],
      "source": [
        "data = np.squeeze(results)\n",
        "plt.hist(data, bins=np.arange(data.min(), data.max()+1)-0.5)\n",
        "plt.ylabel('Frequency')\n",
        "plt.xlabel('Total Rewards')\n",
        "plt.title('Test Rewards')\n",
        "plt.xlim([-21, np.max(results)+1])\n",
        "plt.savefig('./dqn/DQN_frequency.png', bbox_inches='tight')\n",
        "plt.show()"
      ]
    },
    {
      "cell_type": "code",
      "execution_count": null,
      "id": "343a0d9e",
      "metadata": {
        "id": "343a0d9e",
        "outputId": "538cb239-ff53-4d1c-e8a5-b58af1ac516d"
      },
      "outputs": [
        {
          "name": "stdout",
          "output_type": "stream",
          "text": [
            "-20.0\n",
            "-13.0\n",
            "-18.14\n"
          ]
        }
      ],
      "source": [
        "nr = np.array(results)\n",
        "print(np.min(nr))\n",
        "print(np.max(nr))\n",
        "print(np.mean(nr))"
      ]
    },
    {
      "cell_type": "code",
      "execution_count": null,
      "id": "df42d3ed",
      "metadata": {
        "id": "df42d3ed"
      },
      "outputs": [],
      "source": [
        "rewards_list = torch.load(\"./dqn/dqn_rewards\")"
      ]
    },
    {
      "cell_type": "code",
      "execution_count": null,
      "id": "5f0dedce",
      "metadata": {
        "id": "5f0dedce",
        "outputId": "93b486fb-d5e6-4050-defd-06199dff3f0d"
      },
      "outputs": [
        {
          "data": {
            "image/png": "[encoded data removed]",
            "text/plain": [
              "<Figure size 640x480 with 1 Axes>"
            ]
          },
          "metadata": {},
          "output_type": "display_data"
        }
      ],
      "source": [
        "rewards_lists = np.squeeze(rewards_list)\n",
        "r = []\n",
        "x = rewards_lists[0]\n",
        "r.append(x)\n",
        "for i in range(1,rewards_lists.size):\n",
        "    x = 0.95*x+0.05*rewards_lists[i]\n",
        "    r.append(x)\n",
        "    #r.append(sum(rewards_lists[i:i+25]/(24+1)))\n",
        "plt.plot(r)\n",
        "plt.ylabel('total rewards')\n",
        "plt.xlabel('episode number')\n",
        "plt.show()"
      ]
    },
    {
      "cell_type": "code",
      "execution_count": null,
      "id": "27385df5",
      "metadata": {
        "id": "27385df5",
        "outputId": "c4139f46-cca7-4f80-9180-88bc6837bd71"
      },
      "outputs": [
        {
          "name": "stderr",
          "output_type": "stream",
          "text": [
            "c:\\Users\\aadil\\anaconda3\\envs\\gpu1\\lib\\site-packages\\gym\\utils\\passive_env_checker.py:289: UserWarning: \u001b[33mWARN: No render fps was declared in the environment (env.metadata['render_fps'] is None or not defined), rendering may occur at inconsistent fps.\u001b[0m\n",
            "  logger.warn(\n"
          ]
        }
      ],
      "source": [
        "resul = test(env, 1, [], device, render=True)"
      ]
    },
    {
      "cell_type": "code",
      "execution_count": null,
      "id": "b42d358c",
      "metadata": {
        "id": "b42d358c"
      },
      "outputs": [],
      "source": []
    }
  ],
  "metadata": {
    "kernelspec": {
      "display_name": "Python 3",
      "name": "python3"
    },
    "language_info": {
      "codemirror_mode": {
        "name": "ipython",
        "version": 3
      },
      "file_extension": ".py",
      "mimetype": "text/x-python",
      "name": "python",
      "nbconvert_exporter": "python",
      "pygments_lexer": "ipython3",
      "version": "3.11.3"
    },
    "colab": {
      "provenance": [],
      "toc_visible": true,
      "gpuType": "T4"
    },
    "accelerator": "GPU"
  },
  "nbformat": 4,
  "nbformat_minor": 5
}